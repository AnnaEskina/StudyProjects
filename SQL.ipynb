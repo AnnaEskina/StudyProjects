{
 "cells": [
  {
   "cell_type": "markdown",
   "id": "672afe51",
   "metadata": {},
   "source": [
    "<div class=\"alert alert-block alert-success\">✔️\n",
    "    \n",
    "\n",
    "__Комментарий от тимлида №5__\n",
    "\n",
    "Получилась хорошая работа, развернутый итоговый вывод придает ей вид законченного проекта. Поздравляю с окончанием курса! У тебя получилось справиться со всеми задачами. \n",
    "</div>"
   ]
  },
  {
   "cell_type": "code",
   "execution_count": 1,
   "id": "2a136b72",
   "metadata": {},
   "outputs": [],
   "source": [
    "# импортируем библиотеки\n",
    "import pandas as pd\n",
    "from sqlalchemy import create_engine\n",
    "# устанавливаем параметры\n",
    "db_config = {'user': 'praktikum_student', # имя пользователя\n",
    "'pwd': 'Sdf4$2;d-d30pp', # пароль\n",
    "'host': 'rc1b-wcoijxj3yxfsf3fs.mdb.yandexcloud.net',\n",
    "'port': 6432, # порт подключения\n",
    "'db': 'data-analyst-final-project-db'} # название базы данных\n",
    "connection_string = 'postgresql://{}:{}@{}:{}/{}'.format(db_config['user'],\n",
    "                                                         db_config['pwd'],\n",
    "                                                         db_config['host'],\n",
    "                                                         db_config['port'],\n",
    "                                                         db_config['db'])\n",
    "# сохраняем коннектор\n",
    "engine = create_engine(connection_string, connect_args={'sslmode':'require'}) "
   ]
  },
  {
   "cell_type": "markdown",
   "id": "39590082",
   "metadata": {},
   "source": [
    "### Задания\n",
    "\n",
    "- Посчитайте, сколько книг вышло после 1 января 2000 года;\n",
    "- Для каждой книги посчитайте количество обзоров и среднюю оценку;\n",
    "- Определите издательство, которое выпустило наибольшее число книг толще 50 страниц — так вы исключите из анализа брошюры;\n",
    "- Определите автора с самой высокой средней оценкой книг — учитывайте только книги с 50 и более оценками;\n",
    "- Посчитайте среднее количество обзоров от пользователей, которые поставили больше 50 оценок."
   ]
  },
  {
   "cell_type": "markdown",
   "id": "6112f195",
   "metadata": {},
   "source": [
    "### Цель исследования\n",
    "\n",
    "Проанализировать базу данных по заданным параметрам, чтобы сформулировать ценностное предложение для нового продукта. \n",
    "\n",
    "Заказчик:  Крупный сервис для чтения книг по подписке.\n"
   ]
  },
  {
   "cell_type": "markdown",
   "id": "1019f5c7",
   "metadata": {},
   "source": [
    "### Описание данных\n",
    "\n",
    "**Таблица `books`**\n",
    "\n",
    "Содержит данные о книгах:\n",
    "\n",
    "- `book_id` — идентификатор книги;\n",
    "- `author_id` — идентификатор автора;\n",
    "- `title` — название книги;\n",
    "- `num_pages` — количество страниц;\n",
    "- `publication_date` — дата публикации книги;\n",
    "- `publisher_id` — идентификатор издателя.\n",
    "\n",
    "**Таблица `authors`**\n",
    "\n",
    "Содержит данные об авторах:\n",
    "\n",
    "- `author_id` — идентификатор автора;\n",
    "- `author` — имя автора.\n",
    "\n",
    "**Таблица `publishers`**\n",
    "\n",
    "Содержит данные об издательствах:\n",
    "\n",
    "- `publisher_id` — идентификатор издательства;\n",
    "- `publisher` — название издательства;\n",
    "\n",
    "**Таблица `ratings`**\n",
    "\n",
    "Содержит данные о пользовательских оценках книг:\n",
    "\n",
    "- `rating_id` — идентификатор оценки;\n",
    "- `book_id` — идентификатор книги;\n",
    "- `username` — имя пользователя, оставившего оценку;\n",
    "- `rating` — оценка книги.\n",
    "\n",
    "**Таблица `reviews`**\n",
    "\n",
    "Содержит данные о пользовательских обзорах на книги:\n",
    "\n",
    "- `review_id` — идентификатор обзора;\n",
    "- `book_id` — идентификатор книги;\n",
    "- `username` — имя пользователя, написавшего обзор;\n",
    "- `text` — текст обзора."
   ]
  },
  {
   "cell_type": "code",
   "execution_count": 3,
   "id": "a8adaeae",
   "metadata": {},
   "outputs": [],
   "source": [
    "#создадим функцию для вывода результата, чтобы каждый раз не писать длинную команду\n",
    "def show_result(query):\n",
    "    return pd.io.sql.read_sql(query, con = engine)"
   ]
  },
  {
   "cell_type": "code",
   "execution_count": 4,
   "id": "8d46de4e",
   "metadata": {
    "scrolled": true
   },
   "outputs": [
    {
     "data": {
      "text/html": [
       "<div>\n",
       "<style scoped>\n",
       "    .dataframe tbody tr th:only-of-type {\n",
       "        vertical-align: middle;\n",
       "    }\n",
       "\n",
       "    .dataframe tbody tr th {\n",
       "        vertical-align: top;\n",
       "    }\n",
       "\n",
       "    .dataframe thead th {\n",
       "        text-align: right;\n",
       "    }\n",
       "</style>\n",
       "<table border=\"1\" class=\"dataframe\">\n",
       "  <thead>\n",
       "    <tr style=\"text-align: right;\">\n",
       "      <th></th>\n",
       "      <th>book_id</th>\n",
       "      <th>author_id</th>\n",
       "      <th>title</th>\n",
       "      <th>num_pages</th>\n",
       "      <th>publication_date</th>\n",
       "      <th>publisher_id</th>\n",
       "    </tr>\n",
       "  </thead>\n",
       "  <tbody>\n",
       "    <tr>\n",
       "      <th>0</th>\n",
       "      <td>1</td>\n",
       "      <td>546</td>\n",
       "      <td>'Salem's Lot</td>\n",
       "      <td>594</td>\n",
       "      <td>2005-11-01</td>\n",
       "      <td>93</td>\n",
       "    </tr>\n",
       "    <tr>\n",
       "      <th>1</th>\n",
       "      <td>2</td>\n",
       "      <td>465</td>\n",
       "      <td>1 000 Places to See Before You Die</td>\n",
       "      <td>992</td>\n",
       "      <td>2003-05-22</td>\n",
       "      <td>336</td>\n",
       "    </tr>\n",
       "    <tr>\n",
       "      <th>2</th>\n",
       "      <td>3</td>\n",
       "      <td>407</td>\n",
       "      <td>13 Little Blue Envelopes (Little Blue Envelope...</td>\n",
       "      <td>322</td>\n",
       "      <td>2010-12-21</td>\n",
       "      <td>135</td>\n",
       "    </tr>\n",
       "    <tr>\n",
       "      <th>3</th>\n",
       "      <td>4</td>\n",
       "      <td>82</td>\n",
       "      <td>1491: New Revelations of the Americas Before C...</td>\n",
       "      <td>541</td>\n",
       "      <td>2006-10-10</td>\n",
       "      <td>309</td>\n",
       "    </tr>\n",
       "    <tr>\n",
       "      <th>4</th>\n",
       "      <td>5</td>\n",
       "      <td>125</td>\n",
       "      <td>1776</td>\n",
       "      <td>386</td>\n",
       "      <td>2006-07-04</td>\n",
       "      <td>268</td>\n",
       "    </tr>\n",
       "  </tbody>\n",
       "</table>\n",
       "</div>"
      ],
      "text/plain": [
       "   book_id  author_id                                              title  \\\n",
       "0        1        546                                       'Salem's Lot   \n",
       "1        2        465                 1 000 Places to See Before You Die   \n",
       "2        3        407  13 Little Blue Envelopes (Little Blue Envelope...   \n",
       "3        4         82  1491: New Revelations of the Americas Before C...   \n",
       "4        5        125                                               1776   \n",
       "\n",
       "   num_pages publication_date  publisher_id  \n",
       "0        594       2005-11-01            93  \n",
       "1        992       2003-05-22           336  \n",
       "2        322       2010-12-21           135  \n",
       "3        541       2006-10-10           309  \n",
       "4        386       2006-07-04           268  "
      ]
     },
     "metadata": {},
     "output_type": "display_data"
    },
    {
     "data": {
      "text/html": [
       "<div>\n",
       "<style scoped>\n",
       "    .dataframe tbody tr th:only-of-type {\n",
       "        vertical-align: middle;\n",
       "    }\n",
       "\n",
       "    .dataframe tbody tr th {\n",
       "        vertical-align: top;\n",
       "    }\n",
       "\n",
       "    .dataframe thead th {\n",
       "        text-align: right;\n",
       "    }\n",
       "</style>\n",
       "<table border=\"1\" class=\"dataframe\">\n",
       "  <thead>\n",
       "    <tr style=\"text-align: right;\">\n",
       "      <th></th>\n",
       "      <th>author_id</th>\n",
       "      <th>author</th>\n",
       "    </tr>\n",
       "  </thead>\n",
       "  <tbody>\n",
       "    <tr>\n",
       "      <th>0</th>\n",
       "      <td>1</td>\n",
       "      <td>A.S. Byatt</td>\n",
       "    </tr>\n",
       "    <tr>\n",
       "      <th>1</th>\n",
       "      <td>2</td>\n",
       "      <td>Aesop/Laura Harris/Laura Gibbs</td>\n",
       "    </tr>\n",
       "    <tr>\n",
       "      <th>2</th>\n",
       "      <td>3</td>\n",
       "      <td>Agatha Christie</td>\n",
       "    </tr>\n",
       "    <tr>\n",
       "      <th>3</th>\n",
       "      <td>4</td>\n",
       "      <td>Alan Brennert</td>\n",
       "    </tr>\n",
       "    <tr>\n",
       "      <th>4</th>\n",
       "      <td>5</td>\n",
       "      <td>Alan Moore/David   Lloyd</td>\n",
       "    </tr>\n",
       "  </tbody>\n",
       "</table>\n",
       "</div>"
      ],
      "text/plain": [
       "   author_id                          author\n",
       "0          1                      A.S. Byatt\n",
       "1          2  Aesop/Laura Harris/Laura Gibbs\n",
       "2          3                 Agatha Christie\n",
       "3          4                   Alan Brennert\n",
       "4          5        Alan Moore/David   Lloyd"
      ]
     },
     "metadata": {},
     "output_type": "display_data"
    },
    {
     "data": {
      "text/html": [
       "<div>\n",
       "<style scoped>\n",
       "    .dataframe tbody tr th:only-of-type {\n",
       "        vertical-align: middle;\n",
       "    }\n",
       "\n",
       "    .dataframe tbody tr th {\n",
       "        vertical-align: top;\n",
       "    }\n",
       "\n",
       "    .dataframe thead th {\n",
       "        text-align: right;\n",
       "    }\n",
       "</style>\n",
       "<table border=\"1\" class=\"dataframe\">\n",
       "  <thead>\n",
       "    <tr style=\"text-align: right;\">\n",
       "      <th></th>\n",
       "      <th>publisher_id</th>\n",
       "      <th>publisher</th>\n",
       "    </tr>\n",
       "  </thead>\n",
       "  <tbody>\n",
       "    <tr>\n",
       "      <th>0</th>\n",
       "      <td>1</td>\n",
       "      <td>Ace</td>\n",
       "    </tr>\n",
       "    <tr>\n",
       "      <th>1</th>\n",
       "      <td>2</td>\n",
       "      <td>Ace Book</td>\n",
       "    </tr>\n",
       "    <tr>\n",
       "      <th>2</th>\n",
       "      <td>3</td>\n",
       "      <td>Ace Books</td>\n",
       "    </tr>\n",
       "    <tr>\n",
       "      <th>3</th>\n",
       "      <td>4</td>\n",
       "      <td>Ace Hardcover</td>\n",
       "    </tr>\n",
       "    <tr>\n",
       "      <th>4</th>\n",
       "      <td>5</td>\n",
       "      <td>Addison Wesley Publishing Company</td>\n",
       "    </tr>\n",
       "  </tbody>\n",
       "</table>\n",
       "</div>"
      ],
      "text/plain": [
       "   publisher_id                          publisher\n",
       "0             1                                Ace\n",
       "1             2                           Ace Book\n",
       "2             3                          Ace Books\n",
       "3             4                      Ace Hardcover\n",
       "4             5  Addison Wesley Publishing Company"
      ]
     },
     "metadata": {},
     "output_type": "display_data"
    },
    {
     "data": {
      "text/html": [
       "<div>\n",
       "<style scoped>\n",
       "    .dataframe tbody tr th:only-of-type {\n",
       "        vertical-align: middle;\n",
       "    }\n",
       "\n",
       "    .dataframe tbody tr th {\n",
       "        vertical-align: top;\n",
       "    }\n",
       "\n",
       "    .dataframe thead th {\n",
       "        text-align: right;\n",
       "    }\n",
       "</style>\n",
       "<table border=\"1\" class=\"dataframe\">\n",
       "  <thead>\n",
       "    <tr style=\"text-align: right;\">\n",
       "      <th></th>\n",
       "      <th>rating_id</th>\n",
       "      <th>book_id</th>\n",
       "      <th>username</th>\n",
       "      <th>rating</th>\n",
       "    </tr>\n",
       "  </thead>\n",
       "  <tbody>\n",
       "    <tr>\n",
       "      <th>0</th>\n",
       "      <td>1</td>\n",
       "      <td>1</td>\n",
       "      <td>ryanfranco</td>\n",
       "      <td>4</td>\n",
       "    </tr>\n",
       "    <tr>\n",
       "      <th>1</th>\n",
       "      <td>2</td>\n",
       "      <td>1</td>\n",
       "      <td>grantpatricia</td>\n",
       "      <td>2</td>\n",
       "    </tr>\n",
       "    <tr>\n",
       "      <th>2</th>\n",
       "      <td>3</td>\n",
       "      <td>1</td>\n",
       "      <td>brandtandrea</td>\n",
       "      <td>5</td>\n",
       "    </tr>\n",
       "    <tr>\n",
       "      <th>3</th>\n",
       "      <td>4</td>\n",
       "      <td>2</td>\n",
       "      <td>lorichen</td>\n",
       "      <td>3</td>\n",
       "    </tr>\n",
       "    <tr>\n",
       "      <th>4</th>\n",
       "      <td>5</td>\n",
       "      <td>2</td>\n",
       "      <td>mariokeller</td>\n",
       "      <td>2</td>\n",
       "    </tr>\n",
       "  </tbody>\n",
       "</table>\n",
       "</div>"
      ],
      "text/plain": [
       "   rating_id  book_id       username  rating\n",
       "0          1        1     ryanfranco       4\n",
       "1          2        1  grantpatricia       2\n",
       "2          3        1   brandtandrea       5\n",
       "3          4        2       lorichen       3\n",
       "4          5        2    mariokeller       2"
      ]
     },
     "metadata": {},
     "output_type": "display_data"
    },
    {
     "data": {
      "text/html": [
       "<div>\n",
       "<style scoped>\n",
       "    .dataframe tbody tr th:only-of-type {\n",
       "        vertical-align: middle;\n",
       "    }\n",
       "\n",
       "    .dataframe tbody tr th {\n",
       "        vertical-align: top;\n",
       "    }\n",
       "\n",
       "    .dataframe thead th {\n",
       "        text-align: right;\n",
       "    }\n",
       "</style>\n",
       "<table border=\"1\" class=\"dataframe\">\n",
       "  <thead>\n",
       "    <tr style=\"text-align: right;\">\n",
       "      <th></th>\n",
       "      <th>review_id</th>\n",
       "      <th>book_id</th>\n",
       "      <th>username</th>\n",
       "      <th>text</th>\n",
       "    </tr>\n",
       "  </thead>\n",
       "  <tbody>\n",
       "    <tr>\n",
       "      <th>0</th>\n",
       "      <td>1</td>\n",
       "      <td>1</td>\n",
       "      <td>brandtandrea</td>\n",
       "      <td>Mention society tell send professor analysis. ...</td>\n",
       "    </tr>\n",
       "    <tr>\n",
       "      <th>1</th>\n",
       "      <td>2</td>\n",
       "      <td>1</td>\n",
       "      <td>ryanfranco</td>\n",
       "      <td>Foot glass pretty audience hit themselves. Amo...</td>\n",
       "    </tr>\n",
       "    <tr>\n",
       "      <th>2</th>\n",
       "      <td>3</td>\n",
       "      <td>2</td>\n",
       "      <td>lorichen</td>\n",
       "      <td>Listen treat keep worry. Miss husband tax but ...</td>\n",
       "    </tr>\n",
       "    <tr>\n",
       "      <th>3</th>\n",
       "      <td>4</td>\n",
       "      <td>3</td>\n",
       "      <td>johnsonamanda</td>\n",
       "      <td>Finally month interesting blue could nature cu...</td>\n",
       "    </tr>\n",
       "    <tr>\n",
       "      <th>4</th>\n",
       "      <td>5</td>\n",
       "      <td>3</td>\n",
       "      <td>scotttamara</td>\n",
       "      <td>Nation purpose heavy give wait song will. List...</td>\n",
       "    </tr>\n",
       "  </tbody>\n",
       "</table>\n",
       "</div>"
      ],
      "text/plain": [
       "   review_id  book_id       username  \\\n",
       "0          1        1   brandtandrea   \n",
       "1          2        1     ryanfranco   \n",
       "2          3        2       lorichen   \n",
       "3          4        3  johnsonamanda   \n",
       "4          5        3    scotttamara   \n",
       "\n",
       "                                                text  \n",
       "0  Mention society tell send professor analysis. ...  \n",
       "1  Foot glass pretty audience hit themselves. Amo...  \n",
       "2  Listen treat keep worry. Miss husband tax but ...  \n",
       "3  Finally month interesting blue could nature cu...  \n",
       "4  Nation purpose heavy give wait song will. List...  "
      ]
     },
     "metadata": {},
     "output_type": "display_data"
    }
   ],
   "source": [
    "#выведем первые 5 строк всех таблиц\n",
    "for table in ['books', 'authors', 'publishers', 'ratings', 'reviews']:\n",
    "    query = 'SELECT * FROM ' + table + ' LIMIT 5;'\n",
    "    display(pd.io.sql.read_sql(query, con = engine))"
   ]
  },
  {
   "cell_type": "code",
   "execution_count": 5,
   "id": "dddd378c",
   "metadata": {},
   "outputs": [
    {
     "data": {
      "text/html": [
       "<div>\n",
       "<style scoped>\n",
       "    .dataframe tbody tr th:only-of-type {\n",
       "        vertical-align: middle;\n",
       "    }\n",
       "\n",
       "    .dataframe tbody tr th {\n",
       "        vertical-align: top;\n",
       "    }\n",
       "\n",
       "    .dataframe thead th {\n",
       "        text-align: right;\n",
       "    }\n",
       "</style>\n",
       "<table border=\"1\" class=\"dataframe\">\n",
       "  <thead>\n",
       "    <tr style=\"text-align: right;\">\n",
       "      <th></th>\n",
       "      <th>count</th>\n",
       "    </tr>\n",
       "  </thead>\n",
       "  <tbody>\n",
       "    <tr>\n",
       "      <th>0</th>\n",
       "      <td>1000</td>\n",
       "    </tr>\n",
       "  </tbody>\n",
       "</table>\n",
       "</div>"
      ],
      "text/plain": [
       "   count\n",
       "0   1000"
      ]
     },
     "execution_count": 5,
     "metadata": {},
     "output_type": "execute_result"
    }
   ],
   "source": [
    "# посчитаем общее количество книг\n",
    "query = ''' SELECT DISTINCT count(book_id) \n",
    "            FROM books\n",
    "            \n",
    "'''    \n",
    "show_result(query)  "
   ]
  },
  {
   "cell_type": "code",
   "execution_count": 6,
   "id": "140a63eb",
   "metadata": {},
   "outputs": [
    {
     "data": {
      "text/html": [
       "<div>\n",
       "<style scoped>\n",
       "    .dataframe tbody tr th:only-of-type {\n",
       "        vertical-align: middle;\n",
       "    }\n",
       "\n",
       "    .dataframe tbody tr th {\n",
       "        vertical-align: top;\n",
       "    }\n",
       "\n",
       "    .dataframe thead th {\n",
       "        text-align: right;\n",
       "    }\n",
       "</style>\n",
       "<table border=\"1\" class=\"dataframe\">\n",
       "  <thead>\n",
       "    <tr style=\"text-align: right;\">\n",
       "      <th></th>\n",
       "      <th>count</th>\n",
       "    </tr>\n",
       "  </thead>\n",
       "  <tbody>\n",
       "    <tr>\n",
       "      <th>0</th>\n",
       "      <td>819</td>\n",
       "    </tr>\n",
       "  </tbody>\n",
       "</table>\n",
       "</div>"
      ],
      "text/plain": [
       "   count\n",
       "0    819"
      ]
     },
     "execution_count": 6,
     "metadata": {},
     "output_type": "execute_result"
    }
   ],
   "source": [
    "#посчитайте, сколько книг вышло после 1 января 2000 года\n",
    "query = ''' SELECT count(book_id)\n",
    "            FROM books\n",
    "            WHERE publication_date :: date > '2000-01-01'   \n",
    "'''    \n",
    "show_result(query)        "
   ]
  },
  {
   "cell_type": "markdown",
   "id": "6a499a2a",
   "metadata": {},
   "source": [
    "Из 1000 книг 821 книга вышла после 1 января 2000 года"
   ]
  },
  {
   "cell_type": "code",
   "execution_count": 14,
   "id": "dd91cf50",
   "metadata": {},
   "outputs": [
    {
     "data": {
      "text/html": [
       "<div>\n",
       "<style scoped>\n",
       "    .dataframe tbody tr th:only-of-type {\n",
       "        vertical-align: middle;\n",
       "    }\n",
       "\n",
       "    .dataframe tbody tr th {\n",
       "        vertical-align: top;\n",
       "    }\n",
       "\n",
       "    .dataframe thead th {\n",
       "        text-align: right;\n",
       "    }\n",
       "</style>\n",
       "<table border=\"1\" class=\"dataframe\">\n",
       "  <thead>\n",
       "    <tr style=\"text-align: right;\">\n",
       "      <th></th>\n",
       "      <th>count</th>\n",
       "    </tr>\n",
       "  </thead>\n",
       "  <tbody>\n",
       "    <tr>\n",
       "      <th>0</th>\n",
       "      <td>2793</td>\n",
       "    </tr>\n",
       "  </tbody>\n",
       "</table>\n",
       "</div>"
      ],
      "text/plain": [
       "   count\n",
       "0   2793"
      ]
     },
     "execution_count": 14,
     "metadata": {},
     "output_type": "execute_result"
    }
   ],
   "source": [
    "query = ''' SELECT count(reviews)\n",
    "            from reviews\n",
    "'''\n",
    "show_result(query)"
   ]
  },
  {
   "cell_type": "code",
   "execution_count": 37,
   "id": "58a6e073",
   "metadata": {},
   "outputs": [
    {
     "data": {
      "text/html": [
       "<div>\n",
       "<style scoped>\n",
       "    .dataframe tbody tr th:only-of-type {\n",
       "        vertical-align: middle;\n",
       "    }\n",
       "\n",
       "    .dataframe tbody tr th {\n",
       "        vertical-align: top;\n",
       "    }\n",
       "\n",
       "    .dataframe thead th {\n",
       "        text-align: right;\n",
       "    }\n",
       "</style>\n",
       "<table border=\"1\" class=\"dataframe\">\n",
       "  <thead>\n",
       "    <tr style=\"text-align: right;\">\n",
       "      <th></th>\n",
       "      <th>title</th>\n",
       "      <th>book_id</th>\n",
       "      <th>count</th>\n",
       "      <th>avg</th>\n",
       "    </tr>\n",
       "  </thead>\n",
       "  <tbody>\n",
       "    <tr>\n",
       "      <th>0</th>\n",
       "      <td>'Salem's Lot</td>\n",
       "      <td>1</td>\n",
       "      <td>2</td>\n",
       "      <td>3.666667</td>\n",
       "    </tr>\n",
       "    <tr>\n",
       "      <th>1</th>\n",
       "      <td>1 000 Places to See Before You Die</td>\n",
       "      <td>2</td>\n",
       "      <td>1</td>\n",
       "      <td>2.500000</td>\n",
       "    </tr>\n",
       "    <tr>\n",
       "      <th>2</th>\n",
       "      <td>13 Little Blue Envelopes (Little Blue Envelope...</td>\n",
       "      <td>3</td>\n",
       "      <td>3</td>\n",
       "      <td>4.666667</td>\n",
       "    </tr>\n",
       "    <tr>\n",
       "      <th>3</th>\n",
       "      <td>1491: New Revelations of the Americas Before C...</td>\n",
       "      <td>4</td>\n",
       "      <td>2</td>\n",
       "      <td>4.500000</td>\n",
       "    </tr>\n",
       "    <tr>\n",
       "      <th>4</th>\n",
       "      <td>1776</td>\n",
       "      <td>5</td>\n",
       "      <td>4</td>\n",
       "      <td>4.000000</td>\n",
       "    </tr>\n",
       "    <tr>\n",
       "      <th>...</th>\n",
       "      <td>...</td>\n",
       "      <td>...</td>\n",
       "      <td>...</td>\n",
       "      <td>...</td>\n",
       "    </tr>\n",
       "    <tr>\n",
       "      <th>995</th>\n",
       "      <td>Wyrd Sisters (Discworld  #6; Witches #2)</td>\n",
       "      <td>996</td>\n",
       "      <td>3</td>\n",
       "      <td>3.666667</td>\n",
       "    </tr>\n",
       "    <tr>\n",
       "      <th>996</th>\n",
       "      <td>Xenocide (Ender's Saga  #3)</td>\n",
       "      <td>997</td>\n",
       "      <td>3</td>\n",
       "      <td>3.400000</td>\n",
       "    </tr>\n",
       "    <tr>\n",
       "      <th>997</th>\n",
       "      <td>Year of Wonders</td>\n",
       "      <td>998</td>\n",
       "      <td>4</td>\n",
       "      <td>3.200000</td>\n",
       "    </tr>\n",
       "    <tr>\n",
       "      <th>998</th>\n",
       "      <td>You Suck (A Love Story  #2)</td>\n",
       "      <td>999</td>\n",
       "      <td>2</td>\n",
       "      <td>4.500000</td>\n",
       "    </tr>\n",
       "    <tr>\n",
       "      <th>999</th>\n",
       "      <td>Zen and the Art of Motorcycle Maintenance: An ...</td>\n",
       "      <td>1000</td>\n",
       "      <td>4</td>\n",
       "      <td>3.833333</td>\n",
       "    </tr>\n",
       "  </tbody>\n",
       "</table>\n",
       "<p>1000 rows × 4 columns</p>\n",
       "</div>"
      ],
      "text/plain": [
       "                                                 title  book_id  count  \\\n",
       "0                                         'Salem's Lot        1      2   \n",
       "1                   1 000 Places to See Before You Die        2      1   \n",
       "2    13 Little Blue Envelopes (Little Blue Envelope...        3      3   \n",
       "3    1491: New Revelations of the Americas Before C...        4      2   \n",
       "4                                                 1776        5      4   \n",
       "..                                                 ...      ...    ...   \n",
       "995           Wyrd Sisters (Discworld  #6; Witches #2)      996      3   \n",
       "996                        Xenocide (Ender's Saga  #3)      997      3   \n",
       "997                                    Year of Wonders      998      4   \n",
       "998                        You Suck (A Love Story  #2)      999      2   \n",
       "999  Zen and the Art of Motorcycle Maintenance: An ...     1000      4   \n",
       "\n",
       "          avg  \n",
       "0    3.666667  \n",
       "1    2.500000  \n",
       "2    4.666667  \n",
       "3    4.500000  \n",
       "4    4.000000  \n",
       "..        ...  \n",
       "995  3.666667  \n",
       "996  3.400000  \n",
       "997  3.200000  \n",
       "998  4.500000  \n",
       "999  3.833333  \n",
       "\n",
       "[1000 rows x 4 columns]"
      ]
     },
     "execution_count": 37,
     "metadata": {},
     "output_type": "execute_result"
    }
   ],
   "source": [
    "#Для каждой книги посчитайте количество обзоров и среднюю оценку\n",
    "query = ''' SELECT b.title,\n",
    "            b.book_id,            \n",
    "            COUNT(DISTINCT review_id),\n",
    "            AVG(rating)\n",
    "            FROM reviews as rw\n",
    "            FULL JOIN ratings AS r on r.book_id=rw.book_id\n",
    "            RIGHT JOIN books as b on rw.book_id=b.book_id\n",
    "            GROUP BY b.title, b.book_id          \n",
    "'''\n",
    "show_result(query)"
   ]
  },
  {
   "cell_type": "code",
   "execution_count": 9,
   "id": "ff7b0700",
   "metadata": {},
   "outputs": [
    {
     "data": {
      "text/html": [
       "<div>\n",
       "<style scoped>\n",
       "    .dataframe tbody tr th:only-of-type {\n",
       "        vertical-align: middle;\n",
       "    }\n",
       "\n",
       "    .dataframe tbody tr th {\n",
       "        vertical-align: top;\n",
       "    }\n",
       "\n",
       "    .dataframe thead th {\n",
       "        text-align: right;\n",
       "    }\n",
       "</style>\n",
       "<table border=\"1\" class=\"dataframe\">\n",
       "  <thead>\n",
       "    <tr style=\"text-align: right;\">\n",
       "      <th></th>\n",
       "      <th>count</th>\n",
       "    </tr>\n",
       "  </thead>\n",
       "  <tbody>\n",
       "    <tr>\n",
       "      <th>0</th>\n",
       "      <td>2793</td>\n",
       "    </tr>\n",
       "  </tbody>\n",
       "</table>\n",
       "</div>"
      ],
      "text/plain": [
       "   count\n",
       "0   2793"
      ]
     },
     "execution_count": 9,
     "metadata": {},
     "output_type": "execute_result"
    }
   ],
   "source": [
    "# всего ревью\n",
    "query = ''' SELECT COUNT(review_id)\n",
    "            FROM reviews        \n",
    "        \n",
    "'''\n",
    "show_result(query) "
   ]
  },
  {
   "cell_type": "markdown",
   "id": "4dbde2c8",
   "metadata": {},
   "source": [
    "Для каждой книги посчитано количество обзоров и средняя оценка, для сравнения рассчитаны минимальное количество обзоров = 0, максимальное = 7 у книги Twilight (Twilight #1), минимальная средняя оценка = 1.50 книга Harvesting the Heart, максимальная = 5 у Emily of New Moon (Emily #1)"
   ]
  },
  {
   "cell_type": "code",
   "execution_count": 10,
   "id": "f2bac3ab",
   "metadata": {},
   "outputs": [
    {
     "data": {
      "text/html": [
       "<div>\n",
       "<style scoped>\n",
       "    .dataframe tbody tr th:only-of-type {\n",
       "        vertical-align: middle;\n",
       "    }\n",
       "\n",
       "    .dataframe tbody tr th {\n",
       "        vertical-align: top;\n",
       "    }\n",
       "\n",
       "    .dataframe thead th {\n",
       "        text-align: right;\n",
       "    }\n",
       "</style>\n",
       "<table border=\"1\" class=\"dataframe\">\n",
       "  <thead>\n",
       "    <tr style=\"text-align: right;\">\n",
       "      <th></th>\n",
       "      <th>publisher</th>\n",
       "    </tr>\n",
       "  </thead>\n",
       "  <tbody>\n",
       "    <tr>\n",
       "      <th>0</th>\n",
       "      <td>Penguin Books</td>\n",
       "    </tr>\n",
       "  </tbody>\n",
       "</table>\n",
       "</div>"
      ],
      "text/plain": [
       "       publisher\n",
       "0  Penguin Books"
      ]
     },
     "execution_count": 10,
     "metadata": {},
     "output_type": "execute_result"
    }
   ],
   "source": [
    "#Определите издательство, которое выпустило наибольшее число книг толще 50 страниц — так вы исключите из анализа брошюры\n",
    "query = ''' SELECT publisher\n",
    "            FROM publishers\n",
    "            WHERE publisher_id IN (\n",
    "                  SELECT publisher_id\n",
    "                  FROM books\n",
    "                  WHERE num_pages > 50\n",
    "                  GROUP BY publisher_id\n",
    "                  ORDER BY COUNT(book_id) DESC\n",
    "                  LIMIT 1)\n",
    "        \n",
    "'''\n",
    "show_result(query) "
   ]
  },
  {
   "cell_type": "markdown",
   "id": "92f475a7",
   "metadata": {},
   "source": [
    "Самое большое количество - 42 книги выпустило издательство \tPenguin Books"
   ]
  },
  {
   "cell_type": "code",
   "execution_count": 11,
   "id": "181388e5",
   "metadata": {},
   "outputs": [
    {
     "data": {
      "text/html": [
       "<div>\n",
       "<style scoped>\n",
       "    .dataframe tbody tr th:only-of-type {\n",
       "        vertical-align: middle;\n",
       "    }\n",
       "\n",
       "    .dataframe tbody tr th {\n",
       "        vertical-align: top;\n",
       "    }\n",
       "\n",
       "    .dataframe thead th {\n",
       "        text-align: right;\n",
       "    }\n",
       "</style>\n",
       "<table border=\"1\" class=\"dataframe\">\n",
       "  <thead>\n",
       "    <tr style=\"text-align: right;\">\n",
       "      <th></th>\n",
       "      <th>aut</th>\n",
       "      <th>top_avg</th>\n",
       "    </tr>\n",
       "  </thead>\n",
       "  <tbody>\n",
       "    <tr>\n",
       "      <th>0</th>\n",
       "      <td>J.K. Rowling/Mary GrandPré</td>\n",
       "      <td>4.287097</td>\n",
       "    </tr>\n",
       "  </tbody>\n",
       "</table>\n",
       "</div>"
      ],
      "text/plain": [
       "                          aut   top_avg\n",
       "0  J.K. Rowling/Mary GrandPré  4.287097"
      ]
     },
     "execution_count": 11,
     "metadata": {},
     "output_type": "execute_result"
    }
   ],
   "source": [
    "#Определите автора с самой высокой средней оценкой книг — учитывайте только книги с 50 и более оценками\n",
    "query = '''SELECT a.author AS aut,\n",
    "                  AVG(r.rating) AS top_avg\n",
    "           FROM  authors AS a\n",
    "           INNER JOIN books AS b on b.author_id = a.author_id\n",
    "           INNER JOIN ratings AS r ON r.book_id = b.book_id\n",
    "           WHERE b.book_id in (\n",
    "                               SELECT book_id\n",
    "                               FROM ratings\n",
    "                               GROUP BY book_id\n",
    "                               HAVING COUNT(rating) >=50\n",
    "                              )\n",
    "           GROUP BY author\n",
    "           ORDER BY top_avg DESC\n",
    "           LIMIT 1\n",
    "           \n",
    "'''\n",
    "show_result(query)"
   ]
  },
  {
   "cell_type": "markdown",
   "id": "5cbf0f97",
   "metadata": {},
   "source": [
    "В ходе составления запроса получено 19 книг 14 -ти авторов, имеющие 50 и более оценок, из них самая высокая оценка 4.287097 у автора J.K. Rowling/Mary GrandPré. "
   ]
  },
  {
   "cell_type": "markdown",
   "id": "f7516b8a",
   "metadata": {},
   "source": []
  },
  {
   "cell_type": "code",
   "execution_count": 12,
   "id": "7ee919e7",
   "metadata": {},
   "outputs": [
    {
     "data": {
      "text/html": [
       "<div>\n",
       "<style scoped>\n",
       "    .dataframe tbody tr th:only-of-type {\n",
       "        vertical-align: middle;\n",
       "    }\n",
       "\n",
       "    .dataframe tbody tr th {\n",
       "        vertical-align: top;\n",
       "    }\n",
       "\n",
       "    .dataframe thead th {\n",
       "        text-align: right;\n",
       "    }\n",
       "</style>\n",
       "<table border=\"1\" class=\"dataframe\">\n",
       "  <thead>\n",
       "    <tr style=\"text-align: right;\">\n",
       "      <th></th>\n",
       "      <th>round</th>\n",
       "    </tr>\n",
       "  </thead>\n",
       "  <tbody>\n",
       "    <tr>\n",
       "      <th>0</th>\n",
       "      <td>24.0</td>\n",
       "    </tr>\n",
       "  </tbody>\n",
       "</table>\n",
       "</div>"
      ],
      "text/plain": [
       "   round\n",
       "0   24.0"
      ]
     },
     "execution_count": 12,
     "metadata": {},
     "output_type": "execute_result"
    }
   ],
   "source": [
    "#Посчитайте среднее количество обзоров от пользователей, которые поставили больше 50 оценок\n",
    "query = '''SELECT ROUND(AVG(count))\n",
    "           FROM (\n",
    "                  SELECT username,\n",
    "                  COUNT(review_id)\n",
    "                  FROM reviews\n",
    "                  WHERE username IN (\n",
    "                        SELECT username\n",
    "                        FROM ratings\n",
    "                        GROUP BY username\n",
    "                        HAVING COUNT(rating_id) >50\n",
    "                          )\n",
    "                  GROUP BY  username\n",
    "                ) С\n",
    "'''\n",
    "show_result(query)            "
   ]
  },
  {
   "cell_type": "markdown",
   "id": "97651f7c",
   "metadata": {},
   "source": [
    "В ходе составления запроса получено 6 пользователей, поставивших более 50 оценок, в среднем они написали 24 обзора."
   ]
  },
  {
   "cell_type": "markdown",
   "id": "0da8c539",
   "metadata": {},
   "source": [
    "- Из 1000 книг 821 книга вышла после 1 января 2000 года\n",
    "- Для каждой книги посчитано количество обзоров и средняя оценка, для сравнения рассчитаны минимальное количество обзоров = 0, максимальное = 7 у книги Twilight (Twilight #1), минимальная средняя оценка = 1.50 книга Harvesting the Heart, максимальная = 5 у Emily of New Moon (Emily #1)\n",
    "- Самое большое количество - 42 книги выпустило издательство \tPenguin Books\n",
    "- В ходе составления запроса получено 19 книг 14 -ти авторов, имеющие 50 и более оценок, из них самая высокая оценка 4.287097 у автора J.K. Rowling/Mary GrandPré. \n",
    "- В ходе составления запроса получено 6 пользователей, поставивших более 50 оценок, в среднем они написали 24 обзора.\n",
    "\n"
   ]
  }
 ],
 "metadata": {
  "ExecuteTimeLog": [
   {
    "duration": 11956,
    "start_time": "2023-04-18T16:32:46.959Z"
   },
   {
    "duration": 3,
    "start_time": "2023-04-18T16:32:58.918Z"
   },
   {
    "duration": 71,
    "start_time": "2023-04-18T16:32:58.923Z"
   },
   {
    "duration": 742,
    "start_time": "2023-04-18T16:32:58.997Z"
   },
   {
    "duration": 95,
    "start_time": "2023-04-18T16:32:59.741Z"
   },
   {
    "duration": 91,
    "start_time": "2023-04-18T16:32:59.838Z"
   },
   {
    "duration": 128,
    "start_time": "2023-04-18T16:32:59.931Z"
   },
   {
    "duration": 89,
    "start_time": "2023-04-18T16:33:00.063Z"
   },
   {
    "duration": 108,
    "start_time": "2023-04-18T16:33:00.160Z"
   },
   {
    "duration": 100,
    "start_time": "2023-04-18T16:33:00.276Z"
   },
   {
    "duration": 12307,
    "start_time": "2023-04-18T16:56:31.314Z"
   },
   {
    "duration": 3,
    "start_time": "2023-04-18T16:56:43.624Z"
   },
   {
    "duration": 54,
    "start_time": "2023-04-18T16:56:43.629Z"
   },
   {
    "duration": 751,
    "start_time": "2023-04-18T16:56:43.687Z"
   },
   {
    "duration": 84,
    "start_time": "2023-04-18T16:56:44.441Z"
   },
   {
    "duration": 92,
    "start_time": "2023-04-18T16:56:44.527Z"
   },
   {
    "duration": 131,
    "start_time": "2023-04-18T16:56:44.621Z"
   },
   {
    "duration": 95,
    "start_time": "2023-04-18T16:56:44.754Z"
   },
   {
    "duration": 100,
    "start_time": "2023-04-18T16:56:44.852Z"
   },
   {
    "duration": 97,
    "start_time": "2023-04-18T16:56:44.956Z"
   },
   {
    "duration": 93,
    "start_time": "2023-04-18T16:57:16.883Z"
   },
   {
    "duration": 300,
    "start_time": "2023-04-18T17:02:00.303Z"
   },
   {
    "duration": 131,
    "start_time": "2023-04-18T17:03:11.263Z"
   },
   {
    "duration": 196,
    "start_time": "2023-04-18T17:21:29.684Z"
   },
   {
    "duration": 89,
    "start_time": "2023-04-18T17:37:28.280Z"
   },
   {
    "duration": 136,
    "start_time": "2023-04-18T17:38:20.880Z"
   },
   {
    "duration": 195,
    "start_time": "2023-04-18T17:43:58.637Z"
   },
   {
    "duration": 224,
    "start_time": "2023-04-18T17:45:04.979Z"
   },
   {
    "duration": 231,
    "start_time": "2023-04-18T17:45:09.676Z"
   },
   {
    "duration": 226,
    "start_time": "2023-04-18T17:46:27.511Z"
   },
   {
    "duration": 213,
    "start_time": "2023-04-18T17:53:26.001Z"
   },
   {
    "duration": 229,
    "start_time": "2023-04-18T17:53:59.300Z"
   },
   {
    "duration": 221,
    "start_time": "2023-04-18T17:55:41.618Z"
   },
   {
    "duration": 131,
    "start_time": "2023-04-18T17:55:51.103Z"
   },
   {
    "duration": 231,
    "start_time": "2023-04-18T17:57:12.289Z"
   },
   {
    "duration": 133,
    "start_time": "2023-04-18T17:58:00.201Z"
   },
   {
    "duration": 148,
    "start_time": "2023-04-18T17:58:20.923Z"
   },
   {
    "duration": 225,
    "start_time": "2023-04-18T18:01:06.803Z"
   },
   {
    "duration": 148,
    "start_time": "2023-04-18T18:01:35.929Z"
   },
   {
    "duration": 173,
    "start_time": "2023-04-18T18:02:09.908Z"
   },
   {
    "duration": 283,
    "start_time": "2023-04-18T18:02:53.404Z"
   },
   {
    "duration": 126,
    "start_time": "2023-04-18T18:03:25.112Z"
   },
   {
    "duration": 150,
    "start_time": "2023-04-18T18:03:45.528Z"
   },
   {
    "duration": 189,
    "start_time": "2023-04-18T18:05:00.634Z"
   },
   {
    "duration": 160,
    "start_time": "2023-04-18T18:05:35.925Z"
   },
   {
    "duration": 141,
    "start_time": "2023-04-18T18:05:45.898Z"
   },
   {
    "duration": 151,
    "start_time": "2023-04-18T18:06:07.206Z"
   },
   {
    "duration": 127,
    "start_time": "2023-04-18T18:07:06.304Z"
   },
   {
    "duration": 178,
    "start_time": "2023-04-18T18:14:07.318Z"
   },
   {
    "duration": 125,
    "start_time": "2023-04-18T18:16:27.206Z"
   },
   {
    "duration": 166,
    "start_time": "2023-04-18T18:17:07.108Z"
   },
   {
    "duration": 131,
    "start_time": "2023-04-18T18:17:16.080Z"
   },
   {
    "duration": 141,
    "start_time": "2023-04-18T18:17:30.109Z"
   },
   {
    "duration": 11903,
    "start_time": "2023-04-19T00:11:13.609Z"
   },
   {
    "duration": 16584,
    "start_time": "2023-04-19T06:25:00.769Z"
   },
   {
    "duration": 3,
    "start_time": "2023-04-19T06:25:17.355Z"
   },
   {
    "duration": 7,
    "start_time": "2023-04-19T06:25:17.359Z"
   },
   {
    "duration": 520,
    "start_time": "2023-04-19T06:25:17.368Z"
   },
   {
    "duration": 69,
    "start_time": "2023-04-19T06:25:17.890Z"
   },
   {
    "duration": 69,
    "start_time": "2023-04-19T06:25:17.961Z"
   },
   {
    "duration": 69,
    "start_time": "2023-04-19T06:25:18.031Z"
   },
   {
    "duration": 104,
    "start_time": "2023-04-19T06:25:18.101Z"
   },
   {
    "duration": 67,
    "start_time": "2023-04-19T06:25:18.206Z"
   },
   {
    "duration": 70,
    "start_time": "2023-04-19T06:25:18.276Z"
   },
   {
    "duration": 74,
    "start_time": "2023-04-19T06:25:18.348Z"
   },
   {
    "duration": 103,
    "start_time": "2023-04-19T06:28:25.961Z"
   },
   {
    "duration": 103,
    "start_time": "2023-04-19T06:28:57.327Z"
   },
   {
    "duration": 103,
    "start_time": "2023-04-19T06:29:28.519Z"
   },
   {
    "duration": 104,
    "start_time": "2023-04-19T06:29:44.617Z"
   },
   {
    "duration": 101,
    "start_time": "2023-04-19T06:30:16.080Z"
   },
   {
    "duration": 107,
    "start_time": "2023-04-19T06:30:37.073Z"
   },
   {
    "duration": 105,
    "start_time": "2023-04-19T06:30:54.523Z"
   },
   {
    "duration": 101,
    "start_time": "2023-04-19T06:31:08.945Z"
   },
   {
    "duration": 71,
    "start_time": "2023-04-19T06:34:59.621Z"
   },
   {
    "duration": 107,
    "start_time": "2023-04-19T06:41:48.618Z"
   },
   {
    "duration": 107,
    "start_time": "2023-04-19T06:42:06.961Z"
   },
   {
    "duration": 12985,
    "start_time": "2023-04-20T08:43:37.377Z"
   },
   {
    "duration": 3,
    "start_time": "2023-04-20T08:43:50.364Z"
   },
   {
    "duration": 13,
    "start_time": "2023-04-20T08:43:50.369Z"
   },
   {
    "duration": 555,
    "start_time": "2023-04-20T08:43:50.385Z"
   },
   {
    "duration": 70,
    "start_time": "2023-04-20T08:43:50.942Z"
   },
   {
    "duration": 70,
    "start_time": "2023-04-20T08:43:51.014Z"
   },
   {
    "duration": 70,
    "start_time": "2023-04-20T08:43:51.086Z"
   },
   {
    "duration": 239,
    "start_time": "2023-04-20T08:43:51.158Z"
   },
   {
    "duration": 0,
    "start_time": "2023-04-20T08:43:51.398Z"
   },
   {
    "duration": 0,
    "start_time": "2023-04-20T08:43:51.399Z"
   },
   {
    "duration": 0,
    "start_time": "2023-04-20T08:43:51.400Z"
   },
   {
    "duration": 0,
    "start_time": "2023-04-20T08:43:51.402Z"
   },
   {
    "duration": 156,
    "start_time": "2023-04-20T08:44:23.386Z"
   },
   {
    "duration": 104,
    "start_time": "2023-04-20T08:44:31.886Z"
   },
   {
    "duration": 183,
    "start_time": "2023-04-20T08:46:15.459Z"
   },
   {
    "duration": 200,
    "start_time": "2023-04-20T08:46:28.138Z"
   },
   {
    "duration": 163,
    "start_time": "2023-04-20T08:46:44.066Z"
   },
   {
    "duration": 170,
    "start_time": "2023-04-20T08:47:59.673Z"
   },
   {
    "duration": 168,
    "start_time": "2023-04-20T08:48:08.218Z"
   },
   {
    "duration": 156,
    "start_time": "2023-04-20T08:48:14.130Z"
   },
   {
    "duration": 162,
    "start_time": "2023-04-20T08:49:06.426Z"
   },
   {
    "duration": 172,
    "start_time": "2023-04-20T08:49:44.467Z"
   },
   {
    "duration": 549,
    "start_time": "2023-04-20T08:50:03.563Z"
   },
   {
    "duration": 194,
    "start_time": "2023-04-20T08:50:27.436Z"
   },
   {
    "duration": 210,
    "start_time": "2023-04-20T08:50:59.844Z"
   },
   {
    "duration": 256,
    "start_time": "2023-04-20T09:05:04.870Z"
   },
   {
    "duration": 108,
    "start_time": "2023-04-20T09:05:26.191Z"
   },
   {
    "duration": 13622,
    "start_time": "2023-04-20T15:53:44.389Z"
   },
   {
    "duration": 2,
    "start_time": "2023-04-20T15:53:58.014Z"
   },
   {
    "duration": 7,
    "start_time": "2023-04-20T15:53:58.018Z"
   },
   {
    "duration": 117,
    "start_time": "2023-04-20T15:53:58.027Z"
   },
   {
    "duration": 12,
    "start_time": "2023-04-20T15:53:58.147Z"
   },
   {
    "duration": 13,
    "start_time": "2023-04-20T15:53:58.162Z"
   },
   {
    "duration": 18,
    "start_time": "2023-04-20T15:53:58.177Z"
   },
   {
    "duration": 55,
    "start_time": "2023-04-20T15:53:58.197Z"
   },
   {
    "duration": 15,
    "start_time": "2023-04-20T15:53:58.254Z"
   },
   {
    "duration": 11,
    "start_time": "2023-04-20T15:53:58.271Z"
   },
   {
    "duration": 17,
    "start_time": "2023-04-20T15:53:58.283Z"
   },
   {
    "duration": 33,
    "start_time": "2023-04-20T15:53:58.302Z"
   },
   {
    "duration": 52,
    "start_time": "2023-04-20T15:54:11.887Z"
   },
   {
    "duration": 29,
    "start_time": "2023-04-20T15:54:19.036Z"
   },
   {
    "duration": 48,
    "start_time": "2023-04-20T16:27:27.110Z"
   },
   {
    "duration": 6758,
    "start_time": "2023-04-20T16:27:37.907Z"
   },
   {
    "duration": 3,
    "start_time": "2023-04-20T16:27:44.667Z"
   },
   {
    "duration": 9,
    "start_time": "2023-04-20T16:27:44.671Z"
   },
   {
    "duration": 113,
    "start_time": "2023-04-20T16:27:44.682Z"
   },
   {
    "duration": 10,
    "start_time": "2023-04-20T16:27:44.797Z"
   },
   {
    "duration": 8,
    "start_time": "2023-04-20T16:27:44.809Z"
   },
   {
    "duration": 9,
    "start_time": "2023-04-20T16:27:44.818Z"
   },
   {
    "duration": 25,
    "start_time": "2023-04-20T16:27:44.829Z"
   },
   {
    "duration": 11,
    "start_time": "2023-04-20T16:27:44.855Z"
   },
   {
    "duration": 25,
    "start_time": "2023-04-20T16:27:44.870Z"
   },
   {
    "duration": 16,
    "start_time": "2023-04-20T16:27:44.897Z"
   },
   {
    "duration": 13,
    "start_time": "2023-04-20T16:27:44.914Z"
   },
   {
    "duration": 146,
    "start_time": "2023-04-20T16:30:25.305Z"
   },
   {
    "duration": 84,
    "start_time": "2023-04-20T16:30:41.054Z"
   },
   {
    "duration": 107,
    "start_time": "2023-04-20T16:30:55.342Z"
   },
   {
    "duration": 79,
    "start_time": "2023-04-20T16:32:06.127Z"
   },
   {
    "duration": 27,
    "start_time": "2023-04-20T16:33:52.993Z"
   },
   {
    "duration": 32,
    "start_time": "2023-04-20T16:41:16.414Z"
   },
   {
    "duration": 8317,
    "start_time": "2023-04-22T18:01:01.759Z"
   },
   {
    "duration": 2,
    "start_time": "2023-04-22T18:01:10.078Z"
   },
   {
    "duration": 12,
    "start_time": "2023-04-22T18:01:10.081Z"
   },
   {
    "duration": 554,
    "start_time": "2023-04-22T18:01:10.094Z"
   },
   {
    "duration": 67,
    "start_time": "2023-04-22T18:01:10.649Z"
   },
   {
    "duration": 65,
    "start_time": "2023-04-22T18:01:10.717Z"
   },
   {
    "duration": 66,
    "start_time": "2023-04-22T18:01:10.784Z"
   },
   {
    "duration": 98,
    "start_time": "2023-04-22T18:01:10.851Z"
   },
   {
    "duration": 67,
    "start_time": "2023-04-22T18:01:10.951Z"
   },
   {
    "duration": 68,
    "start_time": "2023-04-22T18:01:11.020Z"
   },
   {
    "duration": 70,
    "start_time": "2023-04-22T18:01:11.090Z"
   },
   {
    "duration": 70,
    "start_time": "2023-04-22T18:01:11.161Z"
   },
   {
    "duration": 263,
    "start_time": "2023-04-22T18:02:25.965Z"
   },
   {
    "duration": 71,
    "start_time": "2023-04-22T18:05:41.128Z"
   },
   {
    "duration": 92,
    "start_time": "2023-04-22T18:06:42.445Z"
   },
   {
    "duration": 95,
    "start_time": "2023-04-22T18:10:24.791Z"
   },
   {
    "duration": 102,
    "start_time": "2023-04-22T18:10:42.409Z"
   },
   {
    "duration": 150,
    "start_time": "2023-04-22T18:17:02.889Z"
   },
   {
    "duration": 212,
    "start_time": "2023-04-22T18:17:09.610Z"
   },
   {
    "duration": 148,
    "start_time": "2023-04-22T18:18:10.614Z"
   },
   {
    "duration": 201,
    "start_time": "2023-04-22T18:18:23.327Z"
   },
   {
    "duration": 72,
    "start_time": "2023-04-22T18:20:32.144Z"
   },
   {
    "duration": 70,
    "start_time": "2023-04-22T18:22:47.419Z"
   },
   {
    "duration": 70,
    "start_time": "2023-04-22T18:24:07.979Z"
   },
   {
    "duration": 155,
    "start_time": "2023-04-22T18:32:23.892Z"
   },
   {
    "duration": 79,
    "start_time": "2023-04-22T18:32:32.065Z"
   },
   {
    "duration": 74,
    "start_time": "2023-04-22T18:32:55.253Z"
   },
   {
    "duration": 155,
    "start_time": "2023-04-22T18:37:44.148Z"
   },
   {
    "duration": 108,
    "start_time": "2023-04-22T18:46:26.092Z"
   },
   {
    "duration": 108,
    "start_time": "2023-04-22T18:46:41.531Z"
   },
   {
    "duration": 142,
    "start_time": "2023-04-22T18:47:06.308Z"
   },
   {
    "duration": 109,
    "start_time": "2023-04-22T18:55:38.562Z"
   },
   {
    "duration": 114,
    "start_time": "2023-04-22T18:56:51.628Z"
   },
   {
    "duration": 117,
    "start_time": "2023-04-22T18:57:03.004Z"
   },
   {
    "duration": 113,
    "start_time": "2023-04-22T18:57:35.350Z"
   },
   {
    "duration": 83,
    "start_time": "2023-04-22T18:57:45.876Z"
   },
   {
    "duration": 96,
    "start_time": "2023-04-22T18:57:56.813Z"
   }
  ],
  "kernelspec": {
   "display_name": "Python 3 (ipykernel)",
   "language": "python",
   "name": "python3"
  },
  "language_info": {
   "codemirror_mode": {
    "name": "ipython",
    "version": 3
   },
   "file_extension": ".py",
   "mimetype": "text/x-python",
   "name": "python",
   "nbconvert_exporter": "python",
   "pygments_lexer": "ipython3",
   "version": "3.9.13"
  },
  "toc": {
   "base_numbering": 1,
   "nav_menu": {},
   "number_sections": true,
   "sideBar": true,
   "skip_h1_title": true,
   "title_cell": "Table of Contents",
   "title_sidebar": "Contents",
   "toc_cell": false,
   "toc_position": {},
   "toc_section_display": true,
   "toc_window_display": true
  }
 },
 "nbformat": 4,
 "nbformat_minor": 5
}
